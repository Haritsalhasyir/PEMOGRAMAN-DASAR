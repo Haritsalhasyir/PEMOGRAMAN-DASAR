{
  "nbformat": 4,
  "nbformat_minor": 0,
  "metadata": {
    "colab": {
      "provenance": [],
      "authorship_tag": "ABX9TyNIThfIfpxik0iiTfbQdmLe",
      "include_colab_link": true
    },
    "kernelspec": {
      "name": "python3",
      "display_name": "Python 3"
    },
    "language_info": {
      "name": "python"
    }
  },
  "cells": [
    {
      "cell_type": "markdown",
      "metadata": {
        "id": "view-in-github",
        "colab_type": "text"
      },
      "source": [
        "<a href=\"https://colab.research.google.com/github/Haritsalhasyir/PEMOGRAMAN-DASAR/blob/main/Copy_of_Untitled1.ipynb\" target=\"_parent\"><img src=\"https://colab.research.google.com/assets/colab-badge.svg\" alt=\"Open In Colab\"/></a>"
      ]
    },
    {
      "cell_type": "code",
      "source": [
        "# Biodata Saya\n",
        "nama: str = \"Harits\"\n",
        "umur: int = 19\n",
        "jurusan: str = \"teknik elektro\"\n",
        "prodi: str = \"rpe\"\n",
        "semester: int = 3\n",
        "status_lulus: bool = False\n",
        "\n",
        "\n",
        "print(\"Nama:\", nama)\n",
        "print(\"Umur:\", umur, \"tahun\")\n",
        "print(\"Jurusan:\", jurusan)\n",
        "print(\"Program Studi:\", prodi)\n",
        "print(\"Semester:\", semester)\n",
        "print(\"Status Lulus:\", status_lulus)"
      ],
      "metadata": {
        "id": "LXbcqBLSJrG2",
        "colab": {
          "base_uri": "https://localhost:8080/"
        },
        "outputId": "00f71c52-ac66-4a91-ea07-7cfe9624cb0f"
      },
      "execution_count": null,
      "outputs": [
        {
          "output_type": "stream",
          "name": "stdout",
          "text": [
            "Nama: Harits\n",
            "Umur: 19 tahun\n",
            "Jurusan: teknik elektro\n",
            "Program Studi: rpe\n",
            "Semester: 3\n",
            "Status Lulus: False\n"
          ]
        }
      ]
    }
  ]
}