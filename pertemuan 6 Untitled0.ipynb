{
  "nbformat": 4,
  "nbformat_minor": 0,
  "metadata": {
    "colab": {
      "provenance": [],
      "authorship_tag": "ABX9TyP9k04iyI7eTEtM8tCObVsr",
      "include_colab_link": true
    },
    "kernelspec": {
      "name": "python3",
      "display_name": "Python 3"
    },
    "language_info": {
      "name": "python"
    }
  },
  "cells": [
    {
      "cell_type": "markdown",
      "metadata": {
        "id": "view-in-github",
        "colab_type": "text"
      },
      "source": [
        "<a href=\"https://colab.research.google.com/github/Haritsalhasyir/PEMOGRAMAN-DASAR/blob/main/pertemuan%206%20Untitled0.ipynb\" target=\"_parent\"><img src=\"https://colab.research.google.com/assets/colab-badge.svg\" alt=\"Open In Colab\"/></a>"
      ]
    },
    {
      "cell_type": "code",
      "source": [
        "# Fungsi untuk menganalisis nilai mahasiswa\n",
        "def analisis_mahasiswa(data_mahasiswa):\n",
        "    # data_mahasiswa berupa dictionary (nama: nilai)\n",
        "\n",
        "    hasil_akhir = []  # list untuk menyimpan hasil analisis\n",
        "    total_nilai = 0   # integer (tipe data primitif)\n",
        "\n",
        "    # Perulangan FOR untuk mengolah data dictionary\n",
        "    for nama, nilai in data_mahasiswa.items():\n",
        "        total_nilai += nilai\n",
        "\n",
        "        # Percabangan IF-ELIF-ELSE untuk menentukan kategori nilai\n",
        "        if nilai >= 90:\n",
        "            kategori = \"Sangat Baik\"\n",
        "            lulus = True\n",
        "        elif nilai >= 75:\n",
        "            kategori = \"Baik\"\n",
        "            lulus = True\n",
        "        elif nilai >= 60:\n",
        "            kategori = \"Cukup\"\n",
        "            lulus = True\n",
        "        else:\n",
        "            kategori = \"Tidak Lulus\"\n",
        "            lulus = False\n",
        "\n",
        "        # Menyimpan hasil ke dalam list (tipe non-primitif)\n",
        "        hasil_akhir.append((nama, nilai, kategori, lulus))\n",
        "\n",
        "    # Menghitung rata-rata\n",
        "    rata_rata = total_nilai / len(data_mahasiswa)\n",
        "\n",
        "    # Membuat SET untuk menampilkan kategori unik\n",
        "    kategori_unik = set([data[2] for data in hasil_akhir])\n",
        "\n",
        "    # Menampilkan hasil menggunakan perulangan WHILE\n",
        "    i = 0\n",
        "    print(\"=== HASIL ANALISIS MAHASISWA ===\")\n",
        "    while i < len(hasil_akhir):\n",
        "        nama, nilai, kategori, lulus = hasil_akhir[i]\n",
        "        print(f\"{i+1}. {nama} mendapatkan nilai {nilai} ({kategori}) - Lulus: {lulus}\")\n",
        "        i += 1\n",
        "\n",
        "    # Menampilkan hasil tambahan\n",
        "    print(\"\\nRata-rata nilai kelas:\", round(rata_rata, 2))\n",
        "    print(\"Kategori yang muncul:\", kategori_unik)\n",
        "    print(\"Jumlah mahasiswa:\", len(data_mahasiswa))\n",
        "\n",
        "\n",
        "# Data mahasiswa (dictionary → non-primitif)\n",
        "data_mahasiswa = {\n",
        "    \"Harits\": 85,\n",
        "    \"Nina\": 92,\n",
        "    \"Bagas\": 58,\n",
        "    \"Tasya\": 73,\n",
        "    \"Rafi\": 66\n",
        "}\n",
        "\n",
        "# Pemanggilan fungsi\n",
        "analisis_mahasiswa(data_mahasiswa)"
      ],
      "metadata": {
        "colab": {
          "base_uri": "https://localhost:8080/"
        },
        "id": "F8DQrfY97OEd",
        "outputId": "f672fd71-8eec-4225-965b-5c44baa57160"
      },
      "execution_count": 6,
      "outputs": [
        {
          "output_type": "stream",
          "name": "stdout",
          "text": [
            "=== HASIL ANALISIS MAHASISWA ===\n",
            "1. Harits mendapatkan nilai 85 (Baik) - Lulus: True\n",
            "2. Nina mendapatkan nilai 92 (Sangat Baik) - Lulus: True\n",
            "3. Bagas mendapatkan nilai 58 (Tidak Lulus) - Lulus: False\n",
            "4. Tasya mendapatkan nilai 73 (Cukup) - Lulus: True\n",
            "5. Rafi mendapatkan nilai 66 (Cukup) - Lulus: True\n",
            "\n",
            "Rata-rata nilai kelas: 74.8\n",
            "Kategori yang muncul: {'Baik', 'Tidak Lulus', 'Cukup', 'Sangat Baik'}\n",
            "Jumlah mahasiswa: 5\n"
          ]
        }
      ]
    }
  ]
}