{
  "nbformat": 4,
  "nbformat_minor": 0,
  "metadata": {
    "colab": {
      "provenance": [],
      "authorship_tag": "ABX9TyNxZ7u6FqzOAGc2kSrmCWbk",
      "include_colab_link": true
    },
    "kernelspec": {
      "name": "python3",
      "display_name": "Python 3"
    },
    "language_info": {
      "name": "python"
    }
  },
  "cells": [
    {
      "cell_type": "markdown",
      "metadata": {
        "id": "view-in-github",
        "colab_type": "text"
      },
      "source": [
        "<a href=\"https://colab.research.google.com/github/Haritsalhasyir/PEMOGRAMAN-DASAR/blob/main/tugas%20pertemuan%203%20Untitled0.ipynb\" target=\"_parent\"><img src=\"https://colab.research.google.com/assets/colab-badge.svg\" alt=\"Open In Colab\"/></a>"
      ]
    },
    {
      "cell_type": "code",
      "execution_count": 12,
      "metadata": {
        "colab": {
          "base_uri": "https://localhost:8080/"
        },
        "id": "jW_PTC11Y_P-",
        "outputId": "b7fd82ee-8f7e-4c00-9f1a-b92c12693219"
      },
      "outputs": [
        {
          "output_type": "stream",
          "name": "stdout",
          "text": [
            "Nama Depan   : Harits\n",
            "Nama Belakang: Al Hasyir\n",
            "Umur         : 19\n",
            "Status Nikah : False\n",
            "Cek Tipe Data \n",
            "Tipe firstName : <class 'str'>\n",
            "Tipe lastName  : <class 'str'>\n",
            "Tipe age       : <class 'int'>\n",
            "Tipe isMarried : <class 'bool'>\n"
          ]
        }
      ],
      "source": [
        "# Membuat variabel biodata\n",
        "firstName = \"Harits\"\n",
        "lastName = \"Al Hasyir\"\n",
        "age = 19\n",
        "isMarried = False\n",
        "\n",
        "# Print isi variabel\n",
        "print(\"Nama Depan   :\", firstName)\n",
        "print(\"Nama Belakang:\", lastName)\n",
        "print(\"Umur         :\", age)\n",
        "print(\"Status Nikah :\", isMarried)\n",
        "\n",
        "# Print tipe data\n",
        "print(\"Cek Tipe Data \")\n",
        "print(\"Tipe firstName :\", type(firstName))\n",
        "print(\"Tipe lastName  :\", type(lastName))\n",
        "print(\"Tipe age       :\", type(age))\n",
        "print(\"Tipe isMarried :\", type(isMarried))"
      ]
    },
    {
      "cell_type": "code",
      "source": [
        "\n",
        "data_diri = { \"firstName\": \"Harits\",\"lastName\": \"Al Hasyir\",\"age\": 19,\n",
        "             \"isMarried\": False}\n",
        "\n",
        "# Menampilkan tiap item dengan format lebih rapi\n",
        "print(\" Data Diri \")\n",
        "print(\"Nama Depan   :\", data_diri[\"firstName\"])\n",
        "print(\"Nama Belakang:\", data_diri[\"lastName\"])\n",
        "print(\"Umur         :\", data_diri[\"age\"])\n",
        "print(\"Status Nikah :\", data_diri[\"isMarried\"])\n",
        "\n",
        "# Mengecek tipe data dari tiap value\n",
        "print(\"Cek Tipe Data \")\n",
        "print(\"Tipe firstName :\", type(data_diri[\"firstName\"]))\n",
        "print(\"Tipe lastName  :\", type(data_diri[\"lastName\"]))\n",
        "print(\"Tipe age       :\", type(data_diri[\"age\"]))\n",
        "print(\"Tipe isMarried :\", type(data_diri[\"isMarried\"]))"
      ],
      "metadata": {
        "id": "j94uJKJvfJQh",
        "colab": {
          "base_uri": "https://localhost:8080/"
        },
        "outputId": "661923b7-9692-424c-c7bd-97d471f5cae4"
      },
      "execution_count": 8,
      "outputs": [
        {
          "output_type": "stream",
          "name": "stdout",
          "text": [
            " Data Diri \n",
            "Nama Depan   : Harits\n",
            "Nama Belakang: Al Hasyir\n",
            "Umur         : 19\n",
            "Status Nikah : False\n",
            "Cek Tipe Data \n",
            "Tipe firstName : <class 'str'>\n",
            "Tipe lastName  : <class 'str'>\n",
            "Tipe age       : <class 'int'>\n",
            "Tipe isMarried : <class 'bool'>\n"
          ]
        }
      ]
    },
    {
      "cell_type": "code",
      "source": [
        "# Membuat variabel inspeksi dengan tipe data list\n",
        "inspeksi = [\n",
        "    \"pemahaman terhadap rencana dan desain\",\n",
        "    \"ketersediaan bahan dan peralatan\",\n",
        "    \"pengawasan pekerjaan\",\n",
        "    \"kualitas konstruksi\",\n",
        "    \"keselamatan kerja\",\n",
        "    \"koordinasi dengan pemilik proyek\"\n",
        "]\n",
        "\n",
        "# Menampilkan isi list inspeksi\n",
        "print(\"Daftar Inspeksi Proyek:\")\n",
        "for i, item in enumerate(inspeksi, start=1):\n",
        "    print(f\"{i}. {item}\")"
      ],
      "metadata": {
        "colab": {
          "base_uri": "https://localhost:8080/"
        },
        "id": "WWLAcaoW_x0N",
        "outputId": "2a6ad6a8-a452-4397-8cf6-4dc29ffa7886"
      },
      "execution_count": 1,
      "outputs": [
        {
          "output_type": "stream",
          "name": "stdout",
          "text": [
            "Daftar Inspeksi Proyek:\n",
            "1. pemahaman terhadap rencana dan desain\n",
            "2. ketersediaan bahan dan peralatan\n",
            "3. pengawasan pekerjaan\n",
            "4. kualitas konstruksi\n",
            "5. keselamatan kerja\n",
            "6. koordinasi dengan pemilik proyek\n"
          ]
        }
      ]
    },
    {
      "cell_type": "code",
      "source": [
        "# Membuat dictionary startTime sebagai waktu datang\n",
        "startTime = {\n",
        "    \"HH\": 9,     # jam\n",
        "    \"mm\": 23,    # menit\n",
        "    \"ss\": 57     # detik\n",
        "}\n",
        "\n",
        "# Membuat dictionary endTime sebagai waktu pulang\n",
        "endTime = {\n",
        "    \"HH\": 15,    # jam\n",
        "    \"mm\": 25,    # menit\n",
        "    \"ss\": 43     # detik\n",
        "}\n",
        "\n",
        "# Menampilkan hasil\n",
        "print(\"Waktu Datang (startTime):\")\n",
        "print(f\"{startTime['HH']:02d}:{startTime['mm']:02d}:{startTime['ss']:02d}\")\n",
        "\n",
        "print(\"\\nWaktu Pulang (endTime):\")\n",
        "print(f\"{endTime['HH']:02d}:{endTime['mm']:02d}:{endTime['ss']:02d}\")"
      ],
      "metadata": {
        "colab": {
          "base_uri": "https://localhost:8080/"
        },
        "id": "egWKXkZ4SDQm",
        "outputId": "1e1ff55b-5368-4fb8-ce70-a0e45beeaaff"
      },
      "execution_count": 9,
      "outputs": [
        {
          "output_type": "stream",
          "name": "stdout",
          "text": [
            "Waktu Datang (startTime):\n",
            "09:23:57\n",
            "\n",
            "Waktu Pulang (endTime):\n",
            "15:25:43\n"
          ]
        }
      ]
    },
    {
      "cell_type": "code",
      "source": [
        "# Katalog produk dari pemasok A dan B dalam bentuk set\n",
        "katalog_A = {\"Laptop\", \"Mouse\", \"Keyboard\", \"Monitor\"}\n",
        "katalog_B = {\"Printer\", \"Mouse\", \"Headset\", \"Monitor\"}\n",
        "\n",
        "# Daftar produk diskon dalam bentuk tuple\n",
        "produk_diskon = (\"Laptop\", \"Headset\", \"Keyboard\")\n",
        "\n",
        "# 1. Gabungkan katalog_A dan katalog_B menjadi set katalog_lengkap\n",
        "katalog_lengkap = katalog_A.union(katalog_B)\n",
        "\n",
        "# 2. Cari produk promo aktif (produk yang ada di katalog dan masuk diskon)\n",
        "produk_promo_aktif = katalog_lengkap.intersection(produk_diskon)\n",
        "\n",
        "print(\"Katalog Lengkap :\", katalog_lengkap)\n",
        "print(\"Produk Promo Aktif :\", produk_promo_aktif)"
      ],
      "metadata": {
        "colab": {
          "base_uri": "https://localhost:8080/"
        },
        "id": "inKnTCcvTF2S",
        "outputId": "c0f86f57-b521-406a-b535-382acab6b60d"
      },
      "execution_count": 12,
      "outputs": [
        {
          "output_type": "stream",
          "name": "stdout",
          "text": [
            "Katalog Lengkap : {'Monitor', 'Laptop', 'Keyboard', 'Mouse', 'Headset', 'Printer'}\n",
            "Produk Promo Aktif : {'Laptop', 'Headset', 'Keyboard'}\n"
          ]
        }
      ]
    }
  ]
}