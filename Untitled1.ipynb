{
  "nbformat": 4,
  "nbformat_minor": 0,
  "metadata": {
    "colab": {
      "provenance": [],
      "authorship_tag": "ABX9TyOc+RuzpPV69ijxJK0DVJeB",
      "include_colab_link": true
    },
    "kernelspec": {
      "name": "python3",
      "display_name": "Python 3"
    },
    "language_info": {
      "name": "python"
    }
  },
  "cells": [
    {
      "cell_type": "markdown",
      "metadata": {
        "id": "view-in-github",
        "colab_type": "text"
      },
      "source": [
        "<a href=\"https://colab.research.google.com/github/Haritsalhasyir/PEMOGRAMAN-DASAR/blob/main/Untitled1.ipynb\" target=\"_parent\"><img src=\"https://colab.research.google.com/assets/colab-badge.svg\" alt=\"Open In Colab\"/></a>"
      ]
    },
    {
      "cell_type": "code",
      "execution_count": 2,
      "metadata": {
        "colab": {
          "base_uri": "https://localhost:8080/"
        },
        "id": "7F0RQ9IP5vcU",
        "outputId": "8c05de41-54ac-42c2-f435-c5f558850165"
      },
      "outputs": [
        {
          "output_type": "stream",
          "name": "stdout",
          "text": [
            "Masukkan sebuah angka: 10\n",
            "Kelipatan 5\n"
          ]
        }
      ],
      "source": [
        "#LATIHAN\n",
        "# 1. Program cek kelipatan 5\n",
        "angka = int(input(\"Masukkan sebuah angka: \"))\n",
        "if angka % 5 == 0:\n",
        "    print(\"Kelipatan 5\")\n",
        "else:\n",
        "    print(\"Bukan kelipatan 5\")\n"
      ]
    },
    {
      "cell_type": "code",
      "source": [
        "# 2. Program menentukan tahun kabisat\n",
        "tahun = int(input(\"Masukkan tahun: \"))\n",
        "if tahun % 400 == 0:\n",
        "    print(\"Tahun kabisat\")\n",
        "elif tahun % 100 == 0:\n",
        "    print(\"Bukan tahun kabisat\")\n",
        "elif tahun % 4 == 0:\n",
        "    print(\"Tahun kabisat\")\n",
        "else:\n",
        "    print(\"Bukan tahun kabisat\")"
      ],
      "metadata": {
        "colab": {
          "base_uri": "https://localhost:8080/"
        },
        "id": "TT2a5oWT6TtW",
        "outputId": "1b2a83d5-0c2b-4483-c5a4-f4e067b9d205"
      },
      "execution_count": 3,
      "outputs": [
        {
          "output_type": "stream",
          "name": "stdout",
          "text": [
            "Masukkan tahun: 2024\n",
            "Tahun kabisat\n"
          ]
        }
      ]
    },
    {
      "cell_type": "code",
      "source": [
        "# 3. Program soal matematika (contoh sederhana)\n",
        "print(\"Soal: 10 + 5 = ?\")\n",
        "jawaban = int(input(\"Masukkan jawaban: \"))\n",
        "if jawaban == 15:\n",
        "    print(\"Jawaban benar!\")\n",
        "else:\n",
        "    print(\"Jawaban salah!\")"
      ],
      "metadata": {
        "colab": {
          "base_uri": "https://localhost:8080/"
        },
        "id": "wdySUnsF6aO6",
        "outputId": "fb825e52-5a93-43f2-9d4c-1a20cc5115b5"
      },
      "execution_count": 4,
      "outputs": [
        {
          "output_type": "stream",
          "name": "stdout",
          "text": [
            "Soal: 10 + 5 = ?\n",
            "Masukkan jawaban: 15\n",
            "Jawaban benar!\n"
          ]
        }
      ]
    },
    {
      "cell_type": "code",
      "source": [
        "# 4. Program input bulan\n",
        "bulan = int(input(\"Masukkan angka bulan (1-12): \"))\n",
        "if bulan == 1:\n",
        "    print(\"Januari\")\n",
        "elif bulan == 2:\n",
        "    print(\"Februari\")\n",
        "elif bulan == 3:\n",
        "    print(\"Maret\")\n",
        "elif bulan == 4:\n",
        "    print(\"April\")\n",
        "elif bulan == 5:\n",
        "    print(\"Mei\")\n",
        "elif bulan == 6:\n",
        "    print(\"Juni\")\n",
        "elif bulan == 7:\n",
        "    print(\"Juli\")\n",
        "elif bulan == 8:\n",
        "    print(\"Agustus\")\n",
        "elif bulan == 9:\n",
        "    print(\"September\")\n",
        "elif bulan == 10:\n",
        "    print(\"Oktober\")\n",
        "elif bulan == 11:\n",
        "    print(\"November\")\n",
        "elif bulan == 12:\n",
        "    print(\"Desember\")\n",
        "else:\n",
        "    print(\"Input salah\")"
      ],
      "metadata": {
        "colab": {
          "base_uri": "https://localhost:8080/"
        },
        "id": "sdmrugNs6jsG",
        "outputId": "ba6cdd99-147b-47e3-946e-6711fc071ba7"
      },
      "execution_count": 5,
      "outputs": [
        {
          "output_type": "stream",
          "name": "stdout",
          "text": [
            "Masukkan angka bulan (1-12): 5\n",
            "Mei\n"
          ]
        }
      ]
    },
    {
      "cell_type": "code",
      "source": [
        "# 5. Program salam berdasarkan jam\n",
        "jam = int(input(\"Masukkan jam (0-23): \"))\n",
        "if 0 <= jam <= 11:\n",
        "    print(\"Selamat Pagi\")\n",
        "elif 12 <= jam <= 15:\n",
        "    print(\"Selamat Siang\")\n",
        "elif 16 <= jam <= 18:\n",
        "    print(\"Selamat Sore\")\n",
        "elif 19 <= jam <= 23:\n",
        "    print(\"Selamat Malam\")\n",
        "else:\n",
        "    print(\"Input salah\")"
      ],
      "metadata": {
        "colab": {
          "base_uri": "https://localhost:8080/"
        },
        "id": "6n7098zN6mnL",
        "outputId": "e93e3956-0455-4f7a-bc2f-ddf474a99f4e"
      },
      "execution_count": 6,
      "outputs": [
        {
          "output_type": "stream",
          "name": "stdout",
          "text": [
            "Masukkan jam (0-23): 11\n",
            "Selamat Pagi\n"
          ]
        }
      ]
    },
    {
      "cell_type": "code",
      "source": [
        "#TUGAS\n",
        "print(\"=\"*30)\n",
        "print(\"SELAMAT DATANG DI KAFE GEMINI\")\n",
        "print(\"=\"*30)\n",
        "print(\"Menu Makanan & Minuman:\")\n",
        "print(\"1. Kopi Hitam  = Rp 12.000\")\n",
        "print(\"2. Roti Manis  = Rp 8.000\")\n",
        "print(\"3. Roti Bakar  = Rp 15.000\")\n",
        "print(\"4. Mie Instan  = Rp 10.000\")\n",
        "\n",
        "pilihan = int(input(\"Silahkan masukkan nomor pilihan Anda (1-4): \"))\n",
        "\n",
        "# Inisialisasi harga\n",
        "nama_pesanan = \"\"\n",
        "harga = 0\n",
        "\n",
        "if pilihan == 1:\n",
        "    nama_pesanan = \"Kopi Hitam\"\n",
        "    harga = 12000\n",
        "elif pilihan == 2:\n",
        "    nama_pesanan = \"Roti Manis\"\n",
        "    harga = 8000\n",
        "elif pilihan == 3:\n",
        "    nama_pesanan = \"Roti Bakar\"\n",
        "    harga = 15000\n",
        "elif pilihan == 4:\n",
        "    nama_pesanan = \"Mie Instan\"\n",
        "    harga = 10000\n",
        "else:\n",
        "    print(\"Pilihan tidak valid!\")\n",
        "    exit()\n",
        "\n",
        "print(f\"Pesanan Anda: {nama_pesanan} dengan harga Rp {harga}\")\n",
        "\n",
        "# Menentukan kategori diskon\n",
        "print(\"\\nKategori Diskon:\")\n",
        "print(\"1. Diskon 70%\")\n",
        "print(\"2. Diskon 50%\")\n",
        "print(\"3. Diskon 30%\")\n",
        "\n",
        "pilihan_diskon = int(input(\"Pilih kategori diskon (1/2/3): \"))\n",
        "\n",
        "if pilihan_diskon == 1:\n",
        "    diskon = 0.70\n",
        "elif pilihan_diskon == 2:\n",
        "    diskon = 0.50\n",
        "elif pilihan_diskon == 3:\n",
        "    diskon = 0.30\n",
        "else:\n",
        "    print(\"Pilihan diskon tidak valid!\")\n",
        "    exit()\n",
        "\n",
        "potongan = harga * diskon\n",
        "total_bayar = harga - potongan\n",
        "\n",
        "print(\"=\"*30)\n",
        "print(\"=== STRUK PEMBAYARAN ===\")\n",
        "print(f\"Pesanan     : {nama_pesanan}\")\n",
        "print(f\"Harga Awal  : Rp {harga}\")\n",
        "print(f\"Diskon      : {int(diskon*100)}% (Rp {potongan})\")\n",
        "print(f\"Total Bayar : Rp {total_bayar}\")\n",
        "print(\"=\"*30)\n",
        "print(\"Terima kasih telah berbelanja di Kafe Gemini!\")"
      ],
      "metadata": {
        "colab": {
          "base_uri": "https://localhost:8080/"
        },
        "id": "3EnVdhCo7ftm",
        "outputId": "6e35f915-793f-4772-d05e-6cd7a7d861f2"
      },
      "execution_count": 7,
      "outputs": [
        {
          "output_type": "stream",
          "name": "stdout",
          "text": [
            "==============================\n",
            "SELAMAT DATANG DI KAFE GEMINI\n",
            "==============================\n",
            "Menu Makanan & Minuman:\n",
            "1. Kopi Hitam  = Rp 12.000\n",
            "2. Roti Manis  = Rp 8.000\n",
            "3. Roti Bakar  = Rp 15.000\n",
            "4. Mie Instan  = Rp 10.000\n",
            "Silahkan masukkan nomor pilihan Anda (1-4): 1\n",
            "Pesanan Anda: Kopi Hitam dengan harga Rp 12000\n",
            "\n",
            "Kategori Diskon:\n",
            "1. Diskon 70%\n",
            "2. Diskon 50%\n",
            "3. Diskon 30%\n",
            "Pilih kategori diskon (1/2/3): 1\n",
            "==============================\n",
            "=== STRUK PEMBAYARAN ===\n",
            "Pesanan     : Kopi Hitam\n",
            "Harga Awal  : Rp 12000\n",
            "Diskon      : 70% (Rp 8400.0)\n",
            "Total Bayar : Rp 3600.0\n",
            "==============================\n",
            "Terima kasih telah berbelanja di Kafe Gemini!\n"
          ]
        }
      ]
    }
  ]
}