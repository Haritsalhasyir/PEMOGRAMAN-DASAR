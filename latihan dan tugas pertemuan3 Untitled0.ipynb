{
  "nbformat": 4,
  "nbformat_minor": 0,
  "metadata": {
    "colab": {
      "provenance": [],
      "authorship_tag": "ABX9TyN4DZMUWSMQNam7NXcAaz5p",
      "include_colab_link": true
    },
    "kernelspec": {
      "name": "python3",
      "display_name": "Python 3"
    },
    "language_info": {
      "name": "python"
    }
  },
  "cells": [
    {
      "cell_type": "markdown",
      "metadata": {
        "id": "view-in-github",
        "colab_type": "text"
      },
      "source": [
        "<a href=\"https://colab.research.google.com/github/Haritsalhasyir/PEMOGRAMAN-DASAR/blob/main/latihan%20dan%20tugas%20pertemuan3%20Untitled0.ipynb\" target=\"_parent\"><img src=\"https://colab.research.google.com/assets/colab-badge.svg\" alt=\"Open In Colab\"/></a>"
      ]
    },
    {
      "cell_type": "code",
      "execution_count": 1,
      "metadata": {
        "colab": {
          "base_uri": "https://localhost:8080/"
        },
        "id": "Qs5CPRmeobRd",
        "outputId": "d1926951-def2-48f6-d31e-746e3336b589"
      },
      "outputs": [
        {
          "output_type": "stream",
          "name": "stdout",
          "text": [
            "Masukkan tahun: 2024\n",
            "Apakah tahun 2024 tahun kabisat? True\n"
          ]
        }
      ],
      "source": [
        "#LATIHAN\n",
        "# Program menentukan tahun kabisat\n",
        "\n",
        "# Fungsi input\n",
        "tahun = int(input(\"Masukkan tahun: \"))\n",
        "kabisat = (tahun % 4 == 0 and tahun % 100 != 0) or (tahun % 400 == 0)\n",
        "\n",
        "# Fungsi output\n",
        "print(\"Apakah tahun %d tahun kabisat? %s\" % (tahun, kabisat))"
      ]
    },
    {
      "cell_type": "code",
      "source": [
        "# Program sederhana\n",
        "\n",
        "# fungsi input\n",
        "nama = input(\"Siapa namamu? \")\n",
        "barang = input(\"Barang yang dibeli: \")\n",
        "harga = float(input(\"Harga satuan barang: \"))\n",
        "jumlah = int(input(\"Jumlah barang: \"))\n",
        "\n",
        "# operasi aritmatika\n",
        "total = harga * jumlah\n",
        "\n",
        "# fungsi output\n",
        "print(\"\\n--- Struk Belanja ---\")\n",
        "print(\"Nama Pembeli :\", nama)\n",
        "print(\"Barang       :\", barang)\n",
        "print(\"Harga Satuan : Rp %.2f\" % harga)\n",
        "print(\"Jumlah       :\", jumlah)\n",
        "print(\"Total Bayar  : Rp %.2f\" % total)"
      ],
      "metadata": {
        "colab": {
          "base_uri": "https://localhost:8080/"
        },
        "id": "R0uvEA5Ypmpr",
        "outputId": "81ac5247-9591-4f81-e21c-e257ba0751a4"
      },
      "execution_count": 2,
      "outputs": [
        {
          "output_type": "stream",
          "name": "stdout",
          "text": [
            "Siapa namamu? hartis\n",
            "Barang yang dibeli: buku gramedia\n",
            "Harga satuan barang: 80000\n",
            "Jumlah barang: 2\n",
            "\n",
            "--- Struk Belanja ---\n",
            "Nama Pembeli : hartis\n",
            "Barang       : buku gramedia\n",
            "Harga Satuan : Rp 80000.00\n",
            "Jumlah       : 2\n",
            "Total Bayar  : Rp 160000.00\n"
          ]
        }
      ]
    },
    {
      "cell_type": "code",
      "source": [
        "# tugas\n",
        "\n",
        "# 1. Input data\n",
        "nama = input(\"Nama pelanggan : \")\n",
        "member = input(\"Apakah Anda member? (ya/tidak): \").lower()\n",
        "subtotal = int(input(\"Masukkan total belanja (Rp): \"))\n",
        "\n",
        "# 2. Evaluasi syarat diskon (tanpa if)\n",
        "syarat_diskon = (member == \"ya\") and (subtotal > 100000)\n",
        "\n",
        "# 3. Hitung jumlah diskon\n",
        "diskon = syarat_diskon * (0.15 * subtotal)\n",
        "\n",
        "# 4. Hitung harga setelah diskon\n",
        "harga_setelah_diskon = subtotal - diskon\n",
        "\n",
        "# 5. Hitung PPN (11%)\n",
        "ppn = 0.11 * harga_setelah_diskon\n",
        "\n",
        "# 6. Hitung total akhir\n",
        "total_akhir = harga_setelah_diskon + ppn\n",
        "\n",
        "# Output struk\n",
        "print(\"\\n--- Struk Belanja ---\")\n",
        "print(\"Nama Pelanggan      :\", nama)\n",
        "print(\"Subtotal            : Rp\", subtotal)\n",
        "print(\"Diskon (15%)        : Rp\", int(diskon))\n",
        "print(\"Harga Setelah Diskon: Rp\", int(harga_setelah_diskon))\n",
        "print(\"PPN (11%)           : Rp\", int(ppn))\n",
        "print(\"Total Bayar         : Rp\", int(total_akhir))"
      ],
      "metadata": {
        "colab": {
          "base_uri": "https://localhost:8080/"
        },
        "id": "v8qpM6c1qA62",
        "outputId": "5c6df2e5-5fc5-4556-d3fd-75d585f58391"
      },
      "execution_count": 3,
      "outputs": [
        {
          "output_type": "stream",
          "name": "stdout",
          "text": [
            "Nama pelanggan : harits\n",
            "Apakah Anda member? (ya/tidak): ya\n",
            "Masukkan total belanja (Rp): 150000\n",
            "\n",
            "--- Struk Belanja ---\n",
            "Nama Pelanggan      : harits\n",
            "Subtotal            : Rp 150000\n",
            "Diskon (15%)        : Rp 22500\n",
            "Harga Setelah Diskon: Rp 127500\n",
            "PPN (11%)           : Rp 14025\n",
            "Total Bayar         : Rp 141525\n"
          ]
        }
      ]
    }
  ]
}