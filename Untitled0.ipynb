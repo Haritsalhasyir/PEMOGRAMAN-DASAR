{
  "nbformat": 4,
  "nbformat_minor": 0,
  "metadata": {
    "colab": {
      "provenance": [],
      "authorship_tag": "ABX9TyN7zWnM+4D9pIBXUn9Ak3wE",
      "include_colab_link": true
    },
    "kernelspec": {
      "name": "python3",
      "display_name": "Python 3"
    },
    "language_info": {
      "name": "python"
    }
  },
  "cells": [
    {
      "cell_type": "markdown",
      "metadata": {
        "id": "view-in-github",
        "colab_type": "text"
      },
      "source": [
        "<a href=\"https://colab.research.google.com/github/Haritsalhasyir/PEMOGRAMAN-DASAR/blob/main/Untitled0.ipynb\" target=\"_parent\"><img src=\"https://colab.research.google.com/assets/colab-badge.svg\" alt=\"Open In Colab\"/></a>"
      ]
    },
    {
      "cell_type": "code",
      "execution_count": null,
      "metadata": {
        "id": "GY_IXvBBrQAY",
        "colab": {
          "base_uri": "https://localhost:8080/"
        },
        "outputId": "a68a6d43-8646-40dd-89a1-3144dd87eeb2"
      },
      "outputs": [
        {
          "output_type": "stream",
          "name": "stdout",
          "text": [
            "Nama       : harits al hasyir\n",
            "Umur       : 19\n",
            "Jurusan    : rpe\n",
            "Semester   : 3\n",
            "Mata Kuliah: {'pemerograman dasar'}\n",
            "Status Lulus: False\n"
          ]
        }
      ],
      "source": [
        "identitas = (\"harits al hasyir\", 19)\n",
        "pendidikan = [ \"rpe\", 3]\n",
        "matakuliah = {\"pemerograman dasar\"}\n",
        "lainnya = {\"status_lulus\": False}\n",
        "\n",
        "print(\"Nama       :\", identitas[0])\n",
        "print(\"Umur       :\", identitas[1])\n",
        "print(\"Jurusan    :\", pendidikan[0])\n",
        "print(\"Semester   :\", pendidikan[1])\n",
        "print(\"Mata Kuliah:\", matakuliah)\n",
        "print(\"Status Lulus:\", lainnya[\"status_lulus\"])"
      ]
    }
  ]
}