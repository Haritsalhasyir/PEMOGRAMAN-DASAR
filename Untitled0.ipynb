{
  "nbformat": 4,
  "nbformat_minor": 0,
  "metadata": {
    "colab": {
      "provenance": [],
      "authorship_tag": "ABX9TyPj/gISZ74TSlIWyApuZP6U",
      "include_colab_link": true
    },
    "kernelspec": {
      "name": "python3",
      "display_name": "Python 3"
    },
    "language_info": {
      "name": "python"
    }
  },
  "cells": [
    {
      "cell_type": "markdown",
      "metadata": {
        "id": "view-in-github",
        "colab_type": "text"
      },
      "source": [
        "<a href=\"https://colab.research.google.com/github/Haritsalhasyir/PEMOGRAMAN-DASAR/blob/main/Untitled0.ipynb\" target=\"_parent\"><img src=\"https://colab.research.google.com/assets/colab-badge.svg\" alt=\"Open In Colab\"/></a>"
      ]
    },
    {
      "cell_type": "code",
      "execution_count": 15,
      "metadata": {
        "id": "5v5U3VZEdGUS",
        "colab": {
          "base_uri": "https://localhost:8080/"
        },
        "outputId": "a20f6948-297d-4cdb-e939-6bff29bf4eaf"
      },
      "outputs": [
        {
          "output_type": "stream",
          "name": "stdout",
          "text": [
            "harits al hasyir\n",
            "423201001\n",
            "batam, 14-mei-2006\n",
            "19\n",
            "teknik elektro\n",
            "rpe\n",
            "politeknik negeri batam\n",
            "3\n",
            "pemerograman dasar\n",
            "mahasiswa\n",
            "False\n",
            "@haritsalhasyir_\n"
          ]
        }
      ],
      "source": [
        "# Biodata Saya\n",
        "\n",
        "nama = \"harits al hasyir\"\n",
        "nim = 423201001\n",
        "tempat_tanggal_lahir = \"batam, 14-mei-2006\"\n",
        "umur =  19\n",
        "jurusan = \"teknik elektro\"\n",
        "prodi ='rpe'\n",
        "nama_kampus = \"politeknik negeri batam\"\n",
        "semester = 3\n",
        "matakuliah = 'pemerograman dasar'\n",
        "profesi = \"mahasiswa\"\n",
        "status_lulus = False\n",
        "instagram = \"@haritsalhasyir_\"\n",
        "\n",
        "\n",
        "print (nama)\n",
        "print (nim)\n",
        "print (tempat_tanggal_lahir)\n",
        "print (umur)\n",
        "print (jurusan)\n",
        "print (prodi)\n",
        "print (nama_kampus)\n",
        "print (semester)\n",
        "print (matakuliah)\n",
        "print (profesi)\n",
        "print (status_lulus)\n",
        "print (instagram)\n"
      ]
    },
    {
      "cell_type": "markdown",
      "source": [],
      "metadata": {
        "id": "HtCkwRisFbNz"
      }
    }
  ]
}