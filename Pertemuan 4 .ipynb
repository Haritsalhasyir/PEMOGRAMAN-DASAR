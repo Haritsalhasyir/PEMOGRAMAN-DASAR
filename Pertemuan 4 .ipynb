{
  "nbformat": 4,
  "nbformat_minor": 0,
  "metadata": {
    "colab": {
      "provenance": [],
      "authorship_tag": "ABX9TyOqyFshMMS/OO3EOwTm4xo/",
      "include_colab_link": true
    },
    "kernelspec": {
      "name": "python3",
      "display_name": "Python 3"
    },
    "language_info": {
      "name": "python"
    }
  },
  "cells": [
    {
      "cell_type": "markdown",
      "metadata": {
        "id": "view-in-github",
        "colab_type": "text"
      },
      "source": [
        "<a href=\"https://colab.research.google.com/github/Haritsalhasyir/PEMOGRAMAN-DASAR/blob/main/Pertemuan%204%20.ipynb\" target=\"_parent\"><img src=\"https://colab.research.google.com/assets/colab-badge.svg\" alt=\"Open In Colab\"/></a>"
      ]
    },
    {
      "cell_type": "code",
      "execution_count": null,
      "metadata": {
        "colab": {
          "base_uri": "https://localhost:8080/"
        },
        "id": "52RZRkGlklpI",
        "outputId": "721e0892-ab9f-4dd3-8453-22c2a2e06671"
      },
      "outputs": [
        {
          "output_type": "stream",
          "name": "stdout",
          "text": [
            "pengunjung adalah orang dewasa\n"
          ]
        }
      ],
      "source": [
        "\n",
        "#Variabel untuk menyimpan umur pengunjung\n",
        "umur: int = 21\n",
        "\n",
        "#program hanya akan mencetak pesan jika umur diatas 17\n",
        "if umur > 5:\n",
        "    print(\"pengunjung adalah orang dewasa\")"
      ]
    },
    {
      "cell_type": "code",
      "source": [
        "username = input(\"masukkan username:\")\n",
        "password = input(\"masukan password:\")\n",
        "\n",
        "if username == \"haritsalhasyir\" and password == \"123hris\":\n",
        "    print(\"login berhasil\")\n",
        "else:\n",
        "    print(\"username atau password salah\")"
      ],
      "metadata": {
        "colab": {
          "base_uri": "https://localhost:8080/"
        },
        "id": "Z6UMIcwbn3dG",
        "outputId": "2335849f-abc1-4057-b22f-120e36db7854"
      },
      "execution_count": null,
      "outputs": [
        {
          "output_type": "stream",
          "name": "stdout",
          "text": [
            "masukkan username:haritsalhasyir\n",
            "masukan password:123hris\n",
            "login berhasil\n"
          ]
        }
      ]
    },
    {
      "cell_type": "code",
      "source": [
        "#program untuk mengecek bonus dan diskon\n",
        "total_belanja = input(\"total belanja: Rp\")\n",
        "#jumlah yang harus dibayar adalah berapa total belanjanya\n",
        "#tapi kalau dapat diskon akan berkurang\n",
        "bayar = int(total_belanja)\n",
        "#jika dia belanja di atas 100rb maka berikan bonus dan diskon\n",
        "if bayar >= 100000:\n",
        "  print(\"selamat karena belanja > Rp100.000 anda mendapatkan voucher makan\")\n",
        "  print(\"dan diskon 5%\")\n",
        "  #hitung diskonnya\n",
        "  diskon =int(total_belanja) * 5/100 #5%\n",
        "  bayar = int(total_belanja) - diskon\n",
        "  #cetak struk\n",
        "  print (\"total yang harus dibayar: Rp %s\" % bayar)\n",
        "  print(\"terima kasih sudah berbelanja di toko kami\")\n",
        "  print (\"kami tunggu kunjungan anda selanjutya\")\n",
        "\n"
      ],
      "metadata": {
        "colab": {
          "base_uri": "https://localhost:8080/"
        },
        "id": "9YKdbA6BowhU",
        "outputId": "419404d5-19bd-41b7-9459-676d6e3521b5"
      },
      "execution_count": null,
      "outputs": [
        {
          "output_type": "stream",
          "name": "stdout",
          "text": [
            "total belanja: Rp200000\n",
            "selamat karena belanja > Rp100.000 anda mendapatkan voucher makan\n",
            "dan diskon 5%\n",
            "total yang harus dibayar: Rp 190000.0\n",
            "terima kasih sudah berbelanja di toko kami\n",
            "kami tunggu kunjungan anda selanjutya\n"
          ]
        }
      ]
    },
    {
      "cell_type": "code",
      "source": [
        "#variabel untuk memeriksa apakah ada notifikasi baru\n",
        "ada_notifikasi_baru: bool = True\n",
        "\n",
        "if ada_notifikasi_baru:\n",
        "    print(\"anda memiliki pesan baru\")\n"
      ],
      "metadata": {
        "colab": {
          "base_uri": "https://localhost:8080/"
        },
        "id": "JwNSJUCXrqcI",
        "outputId": "1d007cd4-efe7-4492-c8a1-22961abaebfe"
      },
      "execution_count": null,
      "outputs": [
        {
          "output_type": "stream",
          "name": "stdout",
          "text": [
            "anda memiliki pesan baru\n"
          ]
        }
      ]
    },
    {
      "cell_type": "code",
      "source": [
        "#if-else\n",
        "#contoh penggunaan percabangan ganda\n",
        "\n",
        "umur = input (\"berapa umur kamu: \")\n",
        "if int(umur) >= 18:\n",
        "    print(\"anda boleh membuat KTP\")\n",
        "else:\n",
        "    print(\"anda belum boleh membuat KTP\")"
      ],
      "metadata": {
        "colab": {
          "base_uri": "https://localhost:8080/"
        },
        "id": "REmpo-F3ujy_",
        "outputId": "19e8cbc2-0a33-4faf-ca2a-fdc0308a65af"
      },
      "execution_count": null,
      "outputs": [
        {
          "output_type": "stream",
          "name": "stdout",
          "text": [
            "berapa umur kamu: 18\n",
            "anda boleh membuat KTP\n"
          ]
        }
      ]
    },
    {
      "cell_type": "code",
      "source": [
        "#asumsikan total belanja di atas 20rb\n",
        "\n",
        "if int(total_belanja) > 200000:\n",
        "    diskon = int(total_belanja) * 0.10\n",
        "    total_bayar = int(total_belanja) - diskon\n",
        "    print(f\"anda mendapat diskon! total bayar: rp{total_bayar}\")\n",
        "else:\n",
        "    print(f\"total bayar: Rp {total_belanja}\")"
      ],
      "metadata": {
        "colab": {
          "base_uri": "https://localhost:8080/"
        },
        "id": "jBugUPPzvVg3",
        "outputId": "08eccda5-08e4-4366-995b-b0a372209696"
      },
      "execution_count": null,
      "outputs": [
        {
          "output_type": "stream",
          "name": "stdout",
          "text": [
            "total bayar: Rp 200000\n"
          ]
        }
      ]
    },
    {
      "cell_type": "code",
      "source": [
        "angka = int(input(\"masukkan bilangan: \"))\n",
        "if angka % 2 == 0:\n",
        "    print(\"angka genap\")\n",
        "else:\n",
        "    print(\"angka ganjil\")"
      ],
      "metadata": {
        "colab": {
          "base_uri": "https://localhost:8080/"
        },
        "id": "mrtCyPyewytV",
        "outputId": "0d687279-92eb-4e9a-cd01-c9d07a877b75"
      },
      "execution_count": null,
      "outputs": [
        {
          "output_type": "stream",
          "name": "stdout",
          "text": [
            "masukkan bilangan: 12440\n",
            "angka genap\n"
          ]
        }
      ]
    },
    {
      "cell_type": "code",
      "source": [
        "nilai = 80\n",
        "if nilai >= 85:\n",
        "    print(\"Luar biasa! Nilai A\")\n",
        "elif nilai >= 70:\n",
        "    print(\"Bagus! Nilai B\")\n",
        "elif nilai >= 60:\n",
        "    print(\"Cukup. Nilai C\")\n",
        "else:\n",
        "    print(\"Nilai kurang, perlu belajar lebih giat.\")"
      ],
      "metadata": {
        "colab": {
          "base_uri": "https://localhost:8080/"
        },
        "id": "V4RHcvfq3NUz",
        "outputId": "5ab5b467-df89-4455-d401-5c2a66ba0f87"
      },
      "execution_count": null,
      "outputs": [
        {
          "output_type": "stream",
          "name": "stdout",
          "text": [
            "Bagus! Nilai B\n"
          ]
        }
      ]
    },
    {
      "cell_type": "code",
      "source": [
        "# menentukan jenis diskon berdasarkan hari\n",
        "\n",
        "hari = \"Sabtu\"\n",
        "\n",
        "if hari == \"Sabtu\" or hari == \"Minggu\":\n",
        "    diskon = 0.20  # Diskon 20%\n",
        "    print(f\"Selamat! Anda mendapat diskon akhir pekan sebesar {diskon*100}%.\")\n",
        "elif hari == \"Jumat\":\n",
        "    diskon = 0.15  # Diskon 15%\n",
        "    print(f\"Diskon spesial Jumat! Anda mendapat potongan {diskon*100}%.\")\n",
        "else:\n",
        "    diskon = 0.05  # Diskon 5%\n",
        "    print(f\"Anda mendapat diskon hari biasa sebesar {diskon*100}%.\")"
      ],
      "metadata": {
        "colab": {
          "base_uri": "https://localhost:8080/"
        },
        "id": "-7cEJJY23bUR",
        "outputId": "3d494b23-bf57-43bc-ec12-669f856e36b8"
      },
      "execution_count": null,
      "outputs": [
        {
          "output_type": "stream",
          "name": "stdout",
          "text": [
            "Selamat! Anda mendapat diskon akhir pekan sebesar 20.0%.\n"
          ]
        }
      ]
    },
    {
      "cell_type": "code",
      "source": [
        "rupiah = int(input(\"Masukkan jumlah uang (Rp): \"))\n",
        "print(\"1. Dollar (USD)\")\n",
        "print(\"2. Euro (EUR)\")\n",
        "print(\"3. Yen (JPY)\")\n",
        "pilih = int(input(\"Pilih konversi (1/2/3): \"))\n",
        "\n",
        "if pilih == 1:\n",
        "    print(\"Dalam Dollar:\", rupiah / 15000)\n",
        "elif pilih == 2:\n",
        "    print(\"Dalam Euro:\", rupiah / 16000)\n",
        "elif pilih == 3:\n",
        "    print(\"Dalam Yen:\", rupiah / 120)\n",
        "else:\n",
        "    print(\"Pilihan tidak valid\")"
      ],
      "metadata": {
        "colab": {
          "base_uri": "https://localhost:8080/"
        },
        "id": "2YAqf4JV4NSo",
        "outputId": "1ed78865-f7e7-40a1-c204-f470d3ea7fcb"
      },
      "execution_count": null,
      "outputs": [
        {
          "output_type": "stream",
          "name": "stdout",
          "text": [
            "Masukkan jumlah uang (Rp): 15000\n",
            "1. Dollar (USD)\n",
            "2. Euro (EUR)\n",
            "3. Yen (JPY)\n",
            "Pilih konversi (1/2/3): 2\n",
            "Dalam Euro: 0.9375\n"
          ]
        }
      ]
    }
  ]
}