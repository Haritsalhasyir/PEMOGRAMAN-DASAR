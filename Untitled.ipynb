{
  "nbformat": 4,
  "nbformat_minor": 0,
  "metadata": {
    "colab": {
      "provenance": [],
      "authorship_tag": "ABX9TyMb9bxDiQnNz15ejV1EP53R",
      "include_colab_link": true
    },
    "kernelspec": {
      "name": "python3",
      "display_name": "Python 3"
    },
    "language_info": {
      "name": "python"
    }
  },
  "cells": [
    {
      "cell_type": "markdown",
      "metadata": {
        "id": "view-in-github",
        "colab_type": "text"
      },
      "source": [
        "<a href=\"https://colab.research.google.com/github/Haritsalhasyir/PEMOGRAMAN-DASAR/blob/main/Untitled.ipynb\" target=\"_parent\"><img src=\"https://colab.research.google.com/assets/colab-badge.svg\" alt=\"Open In Colab\"/></a>"
      ]
    },
    {
      "cell_type": "code",
      "execution_count": null,
      "metadata": {
        "colab": {
          "base_uri": "https://localhost:8080/"
        },
        "id": "AwQa_VfymZg7",
        "outputId": "193d2104-b926-483e-b756-982b27b0e251"
      },
      "outputs": [
        {
          "output_type": "stream",
          "name": "stdout",
          "text": [
            "34\n"
          ]
        }
      ],
      "source": [
        "#deklarasi variabel list\n",
        "numbers = [23,43,15,34]\n",
        "#cara mengakses elemen dalam variabel list\n",
        "numbers[0] #23\n",
        "numbers[1] #43\n",
        "numbers[2] #15\n",
        "numbers[3] #34\n",
        "#cara mengubah nilai elemen dalam variabel list\n",
        "numbers[2] #51\n",
        "numbers[3] #51\n",
        "\n",
        "print(numbers[3])"
      ]
    },
    {
      "cell_type": "code",
      "source": [
        "#deklarasi variabellist number\n",
        "numbers = [1, 2, 3]\n",
        "\n",
        "#menambahkan elemen di indeks ke -4\n",
        "numbers.insert(4,5) #[1, 2, 3, 5]\n",
        "\n",
        "#mengubah elemen di indeks ke-4\n",
        "numbers[3]=4  #[1, 2, 3, 4]\n",
        "\n",
        "#menghapus elemen di indeks ke -2\n",
        "numbers.pop(2) #[1, 2, 4]\n",
        "\n",
        "#print lalu lihat hasilnya\n"
      ],
      "metadata": {
        "colab": {
          "base_uri": "https://localhost:8080/"
        },
        "id": "-vDK1jwOnw5c",
        "outputId": "d94a0fa7-545a-4d79-ce3f-4af841b6060e"
      },
      "execution_count": null,
      "outputs": [
        {
          "output_type": "execute_result",
          "data": {
            "text/plain": [
              "3"
            ]
          },
          "metadata": {},
          "execution_count": 16
        }
      ]
    },
    {
      "cell_type": "code",
      "source": [
        "# deklarasi variabel list num numbers = [1, 2, 3]\n",
        "\n",
        "#mehambahkan elemen di indeks ke-4\n",
        "numbers.insert (4, 5) # [1, 2, 3, 5]\n",
        "\n",
        "#megubah elemen di indeks ke -4\n",
        "numbers[3] = 4 # [1, 2, 3, 4]\n",
        "\n",
        "# menghapus elemen di indeks ke-2\n",
        "numbers.pop(2) # [1, 2, 4]\n",
        "\n",
        "#print setiap hasil perubahan dan amati hasilnya"
      ],
      "metadata": {
        "colab": {
          "base_uri": "https://localhost:8080/"
        },
        "id": "E4lLWcGbs6rF",
        "outputId": "ba36b2df-d573-4465-db13-447bf821bf6d"
      },
      "execution_count": null,
      "outputs": [
        {
          "output_type": "execute_result",
          "data": {
            "text/plain": [
              "5"
            ]
          },
          "metadata": {},
          "execution_count": 29
        }
      ]
    },
    {
      "cell_type": "code",
      "source": [
        "#deklarasi variabel list\n",
        "myList =[1,\"rumah\", 4.5, True, [\"kamar mandi\", \"kamar tidur\"]]\n",
        "\n",
        "# cara mengakses elemen dalam variabel list\n",
        "\n",
        "myList[0] # 1\n",
        "myList[1] # \"rumah\"\n",
        "myList[3] # True\n",
        "myList[4] # [\"Kamar mandi\", \"Kamar tidur\"]\n",
        "\n",
        "# cara mengakses elemen dalam sublist\n",
        "myList[4][0] # \"Kamar mandi\"\n",
        "myList[4][1] # \"Kamar tidur\"\n",
        "\n",
        "#lakuan print lalu amati hasilnya"
      ],
      "metadata": {
        "colab": {
          "base_uri": "https://localhost:8080/",
          "height": 36
        },
        "id": "AQotGRuXvuCU",
        "outputId": "02593dbb-b1af-401f-9e16-dda1f35e7a65"
      },
      "execution_count": null,
      "outputs": [
        {
          "output_type": "execute_result",
          "data": {
            "text/plain": [
              "'kamar tidur'"
            ],
            "application/vnd.google.colaboratory.intrinsic+json": {
              "type": "string"
            }
          },
          "metadata": {},
          "execution_count": 52
        }
      ]
    },
    {
      "cell_type": "code",
      "source": [
        "#deklarasi variabel tuple\n",
        "numbers = (23,43,15,34)\n",
        "\n",
        "#cara mengakses elemen dalam variabel tuple\n",
        "numbers[0] #23\n",
        "numbers[1] #43\n",
        "numbers[2] #15\n",
        "#cara mengubah nilai elemen dalam variabel tuple\n",
        "\n"
      ],
      "metadata": {
        "colab": {
          "base_uri": "https://localhost:8080/"
        },
        "id": "pGBQx5yq0CQq",
        "outputId": "d1c5c1b4-e197-4021-9c45-cf785d2bdfc0"
      },
      "execution_count": null,
      "outputs": [
        {
          "output_type": "execute_result",
          "data": {
            "text/plain": [
              "15"
            ]
          },
          "metadata": {},
          "execution_count": 54
        }
      ]
    },
    {
      "cell_type": "code",
      "source": [
        "#deklarasi variabel set a dan b\n",
        "a = {1,2,3}\n",
        "b = {2,3,4}\n",
        "\n",
        "#operasi gabungan\n",
        "a.union(b) # {1, 2, 3, 4}\n",
        "\n",
        "#operasi irisan\n",
        "a.intersection(b) # {2, 3}\n",
        "\n",
        "#operasi perbedaan\n",
        "a.symmetric_difference(b) #{1,4}"
      ],
      "metadata": {
        "id": "AUd2_WGe1gSa",
        "colab": {
          "base_uri": "https://localhost:8080/"
        },
        "outputId": "d9a97186-fcd0-4683-a6f1-0059e49a64ae"
      },
      "execution_count": 55,
      "outputs": [
        {
          "output_type": "execute_result",
          "data": {
            "text/plain": [
              "{1, 4}"
            ]
          },
          "metadata": {},
          "execution_count": 55
        }
      ]
    },
    {
      "cell_type": "code",
      "source": [
        "#deklarasi variabel dictionary\n",
        "propertyDetail = {\"numfloors\" :1, \"propertyType\":\"rumah\",\"hasTerrace\":True,\"HasGarage\": False}\n",
        "\n",
        "#cara mengakses elemen dalam variabel dictionary\n",
        "propertyDetail[\"numfloors\"] #1\n",
        "propertyDetail[\"propertyType\"] #rumah\n",
        "propertyDetail[\"hasTerrace\"] #True\n",
        "propertyDetail[\"HasGarage\"] #False\n",
        "\n",
        "#cara mengubah nilai elemen dalam variabel dictionary\n",
        "propertyDetail[\"hasTerrace\"] = False\n",
        "propertyDetail[\"propertyType\"] = \"kantor\"\n",
        "propertyDetail[\"hasTerrace\"] = False\n",
        "propertyDetail[\"HasGarage\"] = True\n",
        "\n",
        "#print lalu amati hasilnya\n"
      ],
      "metadata": {
        "id": "MmM02Yiz6trq"
      },
      "execution_count": null,
      "outputs": []
    }
  ]
}