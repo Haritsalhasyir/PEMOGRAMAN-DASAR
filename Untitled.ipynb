{
  "nbformat": 4,
  "nbformat_minor": 0,
  "metadata": {
    "colab": {
      "provenance": [],
      "authorship_tag": "ABX9TyM6V+gNlotg+vYuvhJEtl6S",
      "include_colab_link": true
    },
    "kernelspec": {
      "name": "python3",
      "display_name": "Python 3"
    },
    "language_info": {
      "name": "python"
    }
  },
  "cells": [
    {
      "cell_type": "markdown",
      "metadata": {
        "id": "view-in-github",
        "colab_type": "text"
      },
      "source": [
        "<a href=\"https://colab.research.google.com/github/Haritsalhasyir/PEMOGRAMAN-DASAR/blob/main/Untitled.ipynb\" target=\"_parent\"><img src=\"https://colab.research.google.com/assets/colab-badge.svg\" alt=\"Open In Colab\"/></a>"
      ]
    },
    {
      "cell_type": "code",
      "execution_count": 52,
      "metadata": {
        "colab": {
          "base_uri": "https://localhost:8080/"
        },
        "id": "5rFA36hrfkIt",
        "outputId": "dec34578-aa52-4500-d959-b91c4fe5d02d"
      },
      "outputs": [
        {
          "output_type": "stream",
          "name": "stdout",
          "text": [
            "Berapa porsi makan yang anda beli?  10\n",
            "Siapa nama pelanggan ? : harits\n",
            "---daftar transaksi---\n",
            "jumlah porsi 10.0\n",
            "nama pelanggan harits\n"
          ]
        }
      ],
      "source": [
        "total =float(input(\"Berapa porsi makan yang anda beli?  \"))\n",
        "nama = str(input(\"Siapa nama pelanggan ? : \"))\n",
        "\n",
        "print(\"---daftar transaksi---\")\n",
        "print(\"jumlah porsi\", total)\n",
        "print(\"nama pelanggan\", nama)\n",
        "\n"
      ]
    },
    {
      "cell_type": "code",
      "source": [
        "food = \"mi ayam bakso\"\n",
        "jumlah = 2\n",
        "harga = 15000.75\n",
        "angka = 255\n",
        "\n",
        "# %s → string\n",
        "print(\"Harits sedang memesan %s\" % (food))\n",
        "\n",
        "# %d → integer\n",
        "print(\"Harits membeli %d porsi\" % (jumlah))\n",
        "\n",
        "# %f → float\n",
        "print(\"Harga satu porsi = %f\" % (harga))\n",
        "print(\"Harga satu porsi (dibulatkan 2 angka) = %.2f\" % (harga))\n",
        "\n",
        "# %x → hexadecimal\n",
        "print(\"Angka %d dalam heksadesimal adalah %x\" % (angka, angka))\n",
        "\n",
        "# %o → octal\n",
        "print(\"Angka %d dalam oktal adalah %o\" % (angka, angka))"
      ],
      "metadata": {
        "colab": {
          "base_uri": "https://localhost:8080/"
        },
        "id": "0CnLCyLFhX1L",
        "outputId": "e6080fdd-3c8f-470a-9ec1-01608f99e52b"
      },
      "execution_count": 62,
      "outputs": [
        {
          "output_type": "stream",
          "name": "stdout",
          "text": [
            "Harits sedang memesan mi ayam bakso\n",
            "Harits membeli 2 porsi\n",
            "Harga satu porsi = 15000.750000\n",
            "Harga satu porsi (dibulatkan 2 angka) = 15000.75\n",
            "Angka 255 dalam heksadesimal adalah ff\n",
            "Angka 255 dalam oktal adalah 377\n"
          ]
        }
      ]
    },
    {
      "cell_type": "code",
      "source": [
        "#kalkulator sederhana\n",
        "a = 50\n",
        "b = 5\n",
        "print(\"penjumlahan:\", a+b)\n",
        "print(\"pengurangan:\", a-b)\n",
        "print(\"perkalian:\", a*b)\n",
        "print(\"pembagian:\", a/b)\n",
        "print(\"sisa bagi:\", a%b)\n",
        "print(\"pembulatan:\", a/b )"
      ],
      "metadata": {
        "colab": {
          "base_uri": "https://localhost:8080/"
        },
        "id": "JSpq2ommuDCN",
        "outputId": "2900b0f5-d568-455f-f9b9-ebd1b53b96b3"
      },
      "execution_count": 65,
      "outputs": [
        {
          "output_type": "stream",
          "name": "stdout",
          "text": [
            "penjumlahan: 55\n",
            "pengurangan: 45\n",
            "perkalian: 250\n",
            "pembagian: 10.0\n",
            "sisa bagi: 0\n",
            "pembulatan: 10.0\n"
          ]
        }
      ]
    },
    {
      "cell_type": "code",
      "source": [
        "#kalkulator kasir\n",
        "print(\"---belanjaan anda---\")\n",
        "nama_makanan = int(input(\"nasi goreng \"))\n",
        "nama_minuman = int(input(\"teh obeng\"))\n",
        "total = nama_makanan + nama_minuman\n",
        "print(\"total harga = \", total)\n",
        "\n"
      ],
      "metadata": {
        "colab": {
          "base_uri": "https://localhost:8080/"
        },
        "id": "Zd9lOsaxzMXK",
        "outputId": "8958a369-cb46-4db5-ef67-6f2acf8de0da"
      },
      "execution_count": 78,
      "outputs": [
        {
          "output_type": "stream",
          "name": "stdout",
          "text": [
            "---belanjaan anda---\n",
            "nasi goreng 15000\n",
            "teh obeng5000\n",
            "total harga =  20000\n"
          ]
        }
      ]
    },
    {
      "cell_type": "code",
      "source": [
        "#Konversi waktu\n",
        "total_detik = int(input(\"Masukkan detik: \"))\n",
        "jam=total_detik // 3600\n",
        "sisa_detik = total_detik %3600\n",
        "menit = sisa_detik // 60\n",
        "detik = sisa_detik % 60\n",
        "\n",
        "print(jam, \"jam\", menit, \"menit\", detik, \"detik\")"
      ],
      "metadata": {
        "colab": {
          "base_uri": "https://localhost:8080/"
        },
        "id": "SlyCEJug3ZqQ",
        "outputId": "a1df51d3-19bd-4124-9113-0ce1ad1ff9b7"
      },
      "execution_count": 89,
      "outputs": [
        {
          "output_type": "stream",
          "name": "stdout",
          "text": [
            "Masukkan detik: 358200\n",
            "99 jam 30 menit 0 detik\n"
          ]
        }
      ]
    },
    {
      "cell_type": "code",
      "source": [
        "#menghitung nilai akhir mahasiswa\n",
        "nilai_mahasiswa = int(input(\"nilai tugas: \"))\n",
        "nilai_mahasiswa = int(input(\"nilai quiz: \"))\n",
        "nilai_mahasiswa = int(input(\"nilai ats: \"))\n",
        "nilai_mahasiswa = int(input(\"nilai uts: \"))\n",
        "nilai_mahasiswa = int(input(\"nilai uas: \"))\n",
        "standar_kelulusan = int(input(\"nilai standart: \"))\n",
        "apakah_lulus = nilai_mahasiswa >= standar_kelulusan\n",
        "print(apakah_lulus)\n"
      ],
      "metadata": {
        "colab": {
          "base_uri": "https://localhost:8080/",
          "height": 390
        },
        "id": "MW_9178q7B9f",
        "outputId": "e71a0a2c-1aad-46ab-b735-7d0c8572ee0b"
      },
      "execution_count": 94,
      "outputs": [
        {
          "output_type": "error",
          "ename": "KeyboardInterrupt",
          "evalue": "Interrupted by user",
          "traceback": [
            "\u001b[0;31m---------------------------------------------------------------------------\u001b[0m",
            "\u001b[0;31mKeyboardInterrupt\u001b[0m                         Traceback (most recent call last)",
            "\u001b[0;32m/tmp/ipython-input-255916879.py\u001b[0m in \u001b[0;36m<cell line: 0>\u001b[0;34m()\u001b[0m\n\u001b[1;32m      1\u001b[0m \u001b[0;31m#menghitung nilai akhir mahasiswa\u001b[0m\u001b[0;34m\u001b[0m\u001b[0;34m\u001b[0m\u001b[0m\n\u001b[0;32m----> 2\u001b[0;31m \u001b[0mnilai_mahasiswa\u001b[0m \u001b[0;34m=\u001b[0m \u001b[0mint\u001b[0m\u001b[0;34m(\u001b[0m\u001b[0minput\u001b[0m\u001b[0;34m(\u001b[0m\u001b[0;34m\"nilai tugas: \"\u001b[0m\u001b[0;34m)\u001b[0m\u001b[0;34m)\u001b[0m\u001b[0;34m\u001b[0m\u001b[0;34m\u001b[0m\u001b[0m\n\u001b[0m\u001b[1;32m      3\u001b[0m \u001b[0mnilai_mahasiswa\u001b[0m \u001b[0;34m=\u001b[0m \u001b[0mint\u001b[0m\u001b[0;34m(\u001b[0m\u001b[0minput\u001b[0m\u001b[0;34m(\u001b[0m\u001b[0;34m\"nilai quiz: \"\u001b[0m\u001b[0;34m)\u001b[0m\u001b[0;34m)\u001b[0m\u001b[0;34m\u001b[0m\u001b[0;34m\u001b[0m\u001b[0m\n\u001b[1;32m      4\u001b[0m \u001b[0mnilai_mahasiswa\u001b[0m \u001b[0;34m=\u001b[0m \u001b[0mint\u001b[0m\u001b[0;34m(\u001b[0m\u001b[0minput\u001b[0m\u001b[0;34m(\u001b[0m\u001b[0;34m\"nilai ats: \"\u001b[0m\u001b[0;34m)\u001b[0m\u001b[0;34m)\u001b[0m\u001b[0;34m\u001b[0m\u001b[0;34m\u001b[0m\u001b[0m\n\u001b[1;32m      5\u001b[0m \u001b[0mnilai_mahasiswa\u001b[0m \u001b[0;34m=\u001b[0m \u001b[0mint\u001b[0m\u001b[0;34m(\u001b[0m\u001b[0minput\u001b[0m\u001b[0;34m(\u001b[0m\u001b[0;34m\"nilai uts: \"\u001b[0m\u001b[0;34m)\u001b[0m\u001b[0;34m)\u001b[0m\u001b[0;34m\u001b[0m\u001b[0;34m\u001b[0m\u001b[0m\n",
            "\u001b[0;32m/usr/local/lib/python3.12/dist-packages/ipykernel/kernelbase.py\u001b[0m in \u001b[0;36mraw_input\u001b[0;34m(self, prompt)\u001b[0m\n\u001b[1;32m   1175\u001b[0m                 \u001b[0;34m\"raw_input was called, but this frontend does not support input requests.\"\u001b[0m\u001b[0;34m\u001b[0m\u001b[0;34m\u001b[0m\u001b[0m\n\u001b[1;32m   1176\u001b[0m             )\n\u001b[0;32m-> 1177\u001b[0;31m         return self._input_request(\n\u001b[0m\u001b[1;32m   1178\u001b[0m             \u001b[0mstr\u001b[0m\u001b[0;34m(\u001b[0m\u001b[0mprompt\u001b[0m\u001b[0;34m)\u001b[0m\u001b[0;34m,\u001b[0m\u001b[0;34m\u001b[0m\u001b[0;34m\u001b[0m\u001b[0m\n\u001b[1;32m   1179\u001b[0m             \u001b[0mself\u001b[0m\u001b[0;34m.\u001b[0m\u001b[0m_parent_ident\u001b[0m\u001b[0;34m[\u001b[0m\u001b[0;34m\"shell\"\u001b[0m\u001b[0;34m]\u001b[0m\u001b[0;34m,\u001b[0m\u001b[0;34m\u001b[0m\u001b[0;34m\u001b[0m\u001b[0m\n",
            "\u001b[0;32m/usr/local/lib/python3.12/dist-packages/ipykernel/kernelbase.py\u001b[0m in \u001b[0;36m_input_request\u001b[0;34m(self, prompt, ident, parent, password)\u001b[0m\n\u001b[1;32m   1217\u001b[0m             \u001b[0;32mexcept\u001b[0m \u001b[0mKeyboardInterrupt\u001b[0m\u001b[0;34m:\u001b[0m\u001b[0;34m\u001b[0m\u001b[0;34m\u001b[0m\u001b[0m\n\u001b[1;32m   1218\u001b[0m                 \u001b[0;31m# re-raise KeyboardInterrupt, to truncate traceback\u001b[0m\u001b[0;34m\u001b[0m\u001b[0;34m\u001b[0m\u001b[0m\n\u001b[0;32m-> 1219\u001b[0;31m                 \u001b[0;32mraise\u001b[0m \u001b[0mKeyboardInterrupt\u001b[0m\u001b[0;34m(\u001b[0m\u001b[0;34m\"Interrupted by user\"\u001b[0m\u001b[0;34m)\u001b[0m \u001b[0;32mfrom\u001b[0m \u001b[0;32mNone\u001b[0m\u001b[0;34m\u001b[0m\u001b[0;34m\u001b[0m\u001b[0m\n\u001b[0m\u001b[1;32m   1220\u001b[0m             \u001b[0;32mexcept\u001b[0m \u001b[0mException\u001b[0m\u001b[0;34m:\u001b[0m\u001b[0;34m\u001b[0m\u001b[0;34m\u001b[0m\u001b[0m\n\u001b[1;32m   1221\u001b[0m                 \u001b[0mself\u001b[0m\u001b[0;34m.\u001b[0m\u001b[0mlog\u001b[0m\u001b[0;34m.\u001b[0m\u001b[0mwarning\u001b[0m\u001b[0;34m(\u001b[0m\u001b[0;34m\"Invalid Message:\"\u001b[0m\u001b[0;34m,\u001b[0m \u001b[0mexc_info\u001b[0m\u001b[0;34m=\u001b[0m\u001b[0;32mTrue\u001b[0m\u001b[0;34m)\u001b[0m\u001b[0;34m\u001b[0m\u001b[0;34m\u001b[0m\u001b[0m\n",
            "\u001b[0;31mKeyboardInterrupt\u001b[0m: Interrupted by user"
          ]
        }
      ]
    }
  ]
}