{
  "nbformat": 4,
  "nbformat_minor": 0,
  "metadata": {
    "colab": {
      "provenance": [],
      "authorship_tag": "ABX9TyPZHpEVX81Eho0RDZ/ySlaB",
      "include_colab_link": true
    },
    "kernelspec": {
      "name": "python3",
      "display_name": "Python 3"
    },
    "language_info": {
      "name": "python"
    }
  },
  "cells": [
    {
      "cell_type": "markdown",
      "metadata": {
        "id": "view-in-github",
        "colab_type": "text"
      },
      "source": [
        "<a href=\"https://colab.research.google.com/github/Haritsalhasyir/PEMOGRAMAN-DASAR/blob/main/LATIHAN%20MINGGU%20PEGANTI.ipynb\" target=\"_parent\"><img src=\"https://colab.research.google.com/assets/colab-badge.svg\" alt=\"Open In Colab\"/></a>"
      ]
    },
    {
      "cell_type": "code",
      "metadata": {
        "colab": {
          "base_uri": "https://localhost:8080/"
        },
        "id": "83daeca4",
        "outputId": "d6dd3ad7-0f4b-4da6-f6b2-a4dc513c4e12"
      },
      "source": [
        "# SOAL 1: Fungsi Menampilkan Biodata Lengkap\n",
        "def Biodata():\n",
        "  \"\"\"Menampilkan biodata lengkap.\"\"\"\n",
        "  nama = \"harits al hasyir\"\n",
        "  usia = \"19\"\n",
        "  alamat = \"batam\"\n",
        "  Profesi = \"mahasiswa\"\n",
        "\n",
        "  print(\"Biodata Lengkap:\")\n",
        "  print(f\"Nama: {nama}\")\n",
        "  print(f\"Usia: {usia}\")\n",
        "  print(f\"Alamat: {alamat}\")\n",
        "  print(f\"Profesi: {Profesi}\")\n",
        "\n",
        "# Pemanggilan fungsi:\n",
        "Biodata()"
      ],
      "execution_count": null,
      "outputs": [
        {
          "output_type": "stream",
          "name": "stdout",
          "text": [
            "Biodata Lengkap:\n",
            "Nama: harits al hasyir\n",
            "Usia: 19\n",
            "Alamat: batam\n",
            "Profesi: mahasiswa\n"
          ]
        }
      ]
    },
    {
      "cell_type": "code",
      "source": [
        "# SOAL 2: Menghitung Volume Balok\n",
        "def hitung_volume_balok(panjang, lebar, tinggi):\n",
        "    \"\"\"Menghitung volume balok dari panjang, lebar, dan tingginya.\"\"\"\n",
        "    return panjang * lebar * tinggi\n",
        "\n",
        "# Pemanggilan:\n",
        "panjang_balok = 5\n",
        "lebar_balok = 4\n",
        "tinggi_balok = 3\n",
        "print(f\"Volume balok dengan panjang {panjang_balok}, lebar {lebar_balok}, dan tinggi {tinggi_balok} adalah: {hitung_volume_balok(panjang_balok, lebar_balok, tinggi_balok)}\")"
      ],
      "metadata": {
        "colab": {
          "base_uri": "https://localhost:8080/"
        },
        "id": "bRqKw26A7UgJ",
        "outputId": "c8519400-eb49-47c1-d646-4a4827407160"
      },
      "execution_count": null,
      "outputs": [
        {
          "output_type": "stream",
          "name": "stdout",
          "text": [
            "Volume balok dengan panjang 5, lebar 4, dan tinggi 3 adalah: 60\n"
          ]
        }
      ]
    },
    {
      "cell_type": "code",
      "source": [
        "# SOAL 3: Menghitung Rata-rata dari List Nilai\n",
        "def hitung_rata_rata(data_nilai):\n",
        "    \"\"\"Menghitung rata-rata dari list angka menggunakan perulangan for.\"\"\"\n",
        "    total = 0\n",
        "    jumlah_valid = 0 # Tambahkan counter untuk nilai yang valid\n",
        "\n",
        "    # Perulangan untuk menjumlahkan nilai\n",
        "    for nilai in data_nilai:\n",
        "        # Pengecekan nilai di dalam rentang 0 hingga 100\n",
        "        if 0 <= nilai <= 100:\n",
        "            total += nilai\n",
        "            jumlah_valid += 1 # Tambahkan jika nilai valid\n",
        "\n",
        "    # Pembagian untuk rata-rata\n",
        "    if jumlah_valid > 0: # Gunakan jumlah_valid untuk pembagian\n",
        "        return total / jumlah_valid\n",
        "    return 0\n",
        "\n",
        "\n",
        "# Modifikasi Menghitung Rata-rata dengan Validasi Nilai\n",
        "def hitung_rata_rata(data_nilai):\n",
        "    \"\"\"Menghitung rata-rata dari list angka dengan pengecekan nilai valid.\"\"\"\n",
        "    total = 0\n",
        "    jumlah_valid = 0\n",
        "\n",
        "    # Perulangan untuk menjumlahkan nilai\n",
        "    for nilai in data_nilai:\n",
        "        # Cek apakah nilai valid (antara 0 dan 100)\n",
        "        if 0 <= nilai <= 100:\n",
        "            total += nilai\n",
        "            jumlah_valid += 1\n",
        "        else:\n",
        "            print(f\"Nilai {nilai} tidak valid, diabaikan atau diberi penalti 0.\")\n",
        "            # nilai tidak valid dianggap 0 (opsional penalti)\n",
        "            # total += 0\n",
        "\n",
        "    # Pembagian untuk rata-rata\n",
        "    if jumlah_valid > 0:\n",
        "        return total / jumlah_valid\n",
        "    return 0\n",
        "\n",
        "# Pemanggilan:\n",
        "nilai_praktikan = [89, 88, 92, 85, 90,111,-12]\n",
        "print(f\"Nilai rata-rata kelas adalah: {hitung_rata_rata(nilai_praktikan)}\")"
      ],
      "metadata": {
        "colab": {
          "base_uri": "https://localhost:8080/"
        },
        "id": "Pfo5c0gK75UN",
        "outputId": "53296d0a-4848-4605-cf92-e7efc89640cd"
      },
      "execution_count": 19,
      "outputs": [
        {
          "output_type": "stream",
          "name": "stdout",
          "text": [
            "Nilai 111 tidak valid, diabaikan atau diberi penalti 0.\n",
            "Nilai -12 tidak valid, diabaikan atau diberi penalti 0.\n",
            "Nilai rata-rata kelas adalah: 88.8\n"
          ]
        }
      ]
    },
    {
      "cell_type": "code",
      "source": [
        "# SOAL 4: Sistem Penentuan Predikat Nilai (dengan input dan pengecekan tipe data)\n",
        "\n",
        "def tentukan_predikat(skor):\n",
        "    \"\"\"Menentukan predikat (A, B, C, D, E) berdasarkan skor numerik.\"\"\"\n",
        "\n",
        "    # Pengecekan tipe data\n",
        "    if not isinstance(skor, (int, float)):\n",
        "        return \"Error: Input harus berupa angka (int atau float)\"\n",
        "\n",
        "    # Percabangan penentuan predikat\n",
        "    if skor >= 85:\n",
        "        return \"A\"\n",
        "    elif skor >= 70:\n",
        "        return \"B\"\n",
        "    elif skor >= 60:\n",
        "        return \"C\"\n",
        "    elif skor >= 50:\n",
        "        return \"D\"\n",
        "    else:\n",
        "        return \"E\"\n",
        "\n",
        "\n",
        "# ===== Program utama =====\n",
        "try:\n",
        "    # Menerima input dari pengguna\n",
        "    nilai_input = float(input(\"Masukkan skor Anda (0–100): \"))\n",
        "\n",
        "    # Memanggil fungsi dan menampilkan hasil\n",
        "    hasil = tentukan_predikat(nilai_input)\n",
        "    print(f\"Skor {nilai_input} mendapat predikat: {hasil}\")\n",
        "\n",
        "except ValueError:\n",
        "    # Jika input tidak bisa dikonversi ke angka\n",
        "    print(\"Error: Anda harus memasukkan angka, bukan huruf atau simbol.\")\n"
      ],
      "metadata": {
        "colab": {
          "base_uri": "https://localhost:8080/"
        },
        "id": "TEfMoR8Q-UR6",
        "outputId": "3689fb2a-ef64-4f0f-a662-d9987e434166"
      },
      "execution_count": 22,
      "outputs": [
        {
          "output_type": "stream",
          "name": "stdout",
          "text": [
            "Masukkan skor Anda (0–100): 89\n",
            "Skor 89.0 mendapat predikat: A\n"
          ]
        }
      ]
    },
    {
      "cell_type": "code",
      "source": [
        "# Modifikasi Sistem Penentuan Predikat Nilai dengan Validasi Tipe Data\n",
        "def tentukan_predikat(skor):\n",
        "    \"\"\"Menentukan predikat (A, B, C, D, E) berdasarkan skor, dengan validasi tipe data.\"\"\"\n",
        "\n",
        "    # Pengecekan tipe data agar hanya menerima angka\n",
        "    if not isinstance(skor, (int, float)):\n",
        "        return \"Error: Input harus berupa angka (int atau float).\"\n",
        "\n",
        "    # Pengecekan agar skor berada dalam rentang 0–100\n",
        "    if skor < 0 or skor > 100:\n",
        "        return \"Error: Skor harus berada di antara 0 dan 100.\"\n",
        "\n",
        "    # Penentuan predikat\n",
        "    if skor >= 85:\n",
        "        return \"A\"\n",
        "    elif skor >= 70:\n",
        "        return \"B\"\n",
        "    elif skor >= 60:\n",
        "        return \"C\"\n",
        "    elif skor >= 50:\n",
        "        return \"D\"\n",
        "    else:\n",
        "        return \"E\"\n",
        "\n",
        "\n",
        "# Contoh Pemanggilan:\n",
        "print(tentukan_predikat(97))     # Output: A\n",
        "print(tentukan_predikat(73.5))   # Output: B\n",
        "print(tentukan_predikat(\"90\"))   # Error: Input harus berupa angka\n",
        "print(tentukan_predikat(-60))    # Error: Skor harus berada di antara 0 dan 100"
      ],
      "metadata": {
        "id": "ZWLY5BBn63Wn",
        "outputId": "87a5edb6-394b-420b-cc68-cf64bed5a9b3",
        "colab": {
          "base_uri": "https://localhost:8080/"
        }
      },
      "execution_count": 24,
      "outputs": [
        {
          "output_type": "stream",
          "name": "stdout",
          "text": [
            "A\n",
            "B\n",
            "Error: Input harus berupa angka (int atau float).\n",
            "Error: Skor harus berada di antara 0 dan 100.\n"
          ]
        }
      ]
    },
    {
      "cell_type": "code",
      "source": [
        "# SOAL 5: Menghitung Faktorial dengan Loop While\n",
        "def hitung_faktorial(n):\n",
        "    \"\"\"Menghitung faktorial dari bilangan positif n.\"\"\"\n",
        "    # Menangani kasus khusus: n = 0 atau n < 0\n",
        "    if n < 0:\n",
        "        return \"Faktorial tidak terdefinisi untuk bilangan negatif\"\n",
        "    elif n == 0:\n",
        "        return 1\n",
        "\n",
        "    hasil = 1\n",
        "    # Perulangan berjalan selama n lebih besar dari 1\n",
        "    while n > 1:\n",
        "        hasil *= n\n",
        "        n -= 1\n",
        "    return hasil\n",
        "\n",
        "# Pemanggilan:\n",
        "bilangan_n = 4\n",
        "print(f\"Faktorial dari {bilangan_n} adalah: {hitung_faktorial(bilangan_n)}\")  # Output: 24\n",
        "\n",
        "bilangan_n_nol = 0\n",
        "print(f\"Faktorial dari {bilangan_n_nol} adalah: {hitung_faktorial(bilangan_n_nol)}\")\n",
        "\n",
        "bilangan_n_negatif = -5\n",
        "print(f\"Faktorial dari {bilangan_n_negatif} adalah: {hitung_faktorial(bilangan_n_negatif)}\")"
      ],
      "metadata": {
        "colab": {
          "base_uri": "https://localhost:8080/"
        },
        "id": "e0q4jmNG_fOW",
        "outputId": "f4e31642-8dee-45fc-c166-89f227a324f7"
      },
      "execution_count": 21,
      "outputs": [
        {
          "output_type": "stream",
          "name": "stdout",
          "text": [
            "Faktorial dari 4 adalah: 24\n",
            "Faktorial dari 0 adalah: 1\n",
            "Faktorial dari -5 adalah: Faktorial tidak terdefinisi untuk bilangan negatif\n"
          ]
        }
      ]
    },
    {
      "cell_type": "code",
      "source": [
        "# SOAL 6: Analisis Data Suhu Ekstrem (for dan if/elif)\n",
        "def analisis_suhu(data_suhu, batas_panas=35, batas_dingin=15):\n",
        "    \"\"\"Menghitung jumlah hari Panas dan Dingin dari data_suhu.\"\"\"\n",
        "    panas_count = 0\n",
        "    dingin_count = 0 # Diperbaiki: Mengganti placeholder dengan nilai awal 0\n",
        "\n",
        "    for suhu in data_suhu:\n",
        "        if suhu >= batas_panas: # Menggunakan parameter batas_panas\n",
        "            panas_count += 1\n",
        "        elif suhu <= batas_dingin: # Diperbaiki: Mengganti placeholder dengan kondisi yang benar dan menggunakan parameter batas_dingin\n",
        "            dingin_count += 1\n",
        "\n",
        "    return panas_count, dingin_count\n",
        "\n",
        "# Pemanggilan:\n",
        "suhu_mingguan = [36, 30, 14, 25, 38, 16, 28]\n",
        "jumlah_panas, jumlah_dingin = analisis_suhu(suhu_mingguan)\n",
        "print(f\"Jumlah hari Panas (>={analisis_suhu.__defaults__[0]}°C): {jumlah_panas}\") # Menampilkan nilai default batas_panas\n",
        "print(f\"Jumlah hari Dingin (<={analisis_suhu.__defaults__[1]}°C): {jumlah_dingin}\") # Menampilkan nilai default batas_dingin\n",
        "\n",
        "# Contoh pemanggilan dengan batas yang berbeda\n",
        "jumlah_panas_disesuaikan , jumlah_dingin_disesuaikan = analisis_suhu(suhu_mingguan, batas_panas=30, batas_dingin=20)\n",
        "print(f\"\\nDengan batas disesuaikan (Panas >= 30°C, Dingin <= 20°C):\")\n",
        "print(f\"Jumlah hari Panas: {jumlah_panas_disesuaikan }\")\n",
        "print(f\"Jumlah hari Dingin: {jumlah_dingin_disesuaikan }\")"
      ],
      "metadata": {
        "colab": {
          "base_uri": "https://localhost:8080/"
        },
        "id": "v3ElRQYa_0xU",
        "outputId": "fca9a23d-bbb2-415b-ce0e-0fa9583714dd"
      },
      "execution_count": 26,
      "outputs": [
        {
          "output_type": "stream",
          "name": "stdout",
          "text": [
            "Jumlah hari Panas (>=35°C): 2\n",
            "Jumlah hari Dingin (<=15°C): 1\n",
            "\n",
            "Dengan batas disesuaikan (Panas >= 30°C, Dingin <= 20°C):\n",
            "Jumlah hari Panas: 3\n",
            "Jumlah hari Dingin: 2\n"
          ]
        }
      ]
    }
  ]
}