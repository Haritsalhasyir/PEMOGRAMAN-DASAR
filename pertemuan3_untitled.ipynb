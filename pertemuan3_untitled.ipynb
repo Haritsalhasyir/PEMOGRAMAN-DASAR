{
  "nbformat": 4,
  "nbformat_minor": 0,
  "metadata": {
    "colab": {
      "provenance": [],
      "authorship_tag": "ABX9TyMIitsYKvC98fkCYgxScjJh",
      "include_colab_link": true
    },
    "kernelspec": {
      "name": "python3",
      "display_name": "Python 3"
    },
    "language_info": {
      "name": "python"
    }
  },
  "cells": [
    {
      "cell_type": "markdown",
      "metadata": {
        "id": "view-in-github",
        "colab_type": "text"
      },
      "source": [
        "<a href=\"https://colab.research.google.com/github/Haritsalhasyir/PEMOGRAMAN-DASAR/blob/main/pertemuan3_untitled.ipynb\" target=\"_parent\"><img src=\"https://colab.research.google.com/assets/colab-badge.svg\" alt=\"Open In Colab\"/></a>"
      ]
    },
    {
      "cell_type": "code",
      "execution_count": null,
      "metadata": {
        "colab": {
          "base_uri": "https://localhost:8080/"
        },
        "id": "5rFA36hrfkIt",
        "outputId": "dec34578-aa52-4500-d959-b91c4fe5d02d"
      },
      "outputs": [
        {
          "output_type": "stream",
          "name": "stdout",
          "text": [
            "Berapa porsi makan yang anda beli?  10\n",
            "Siapa nama pelanggan ? : harits\n",
            "---daftar transaksi---\n",
            "jumlah porsi 10.0\n",
            "nama pelanggan harits\n"
          ]
        }
      ],
      "source": [
        "total =float(input(\"Berapa porsi makan yang anda beli?  \"))\n",
        "nama = str(input(\"Siapa nama pelanggan ? : \"))\n",
        "\n",
        "print(\"---daftar transaksi---\")\n",
        "print(\"jumlah porsi\", total)\n",
        "print(\"nama pelanggan\", nama)\n",
        "\n"
      ]
    },
    {
      "cell_type": "code",
      "source": [
        "food = \"mi ayam bakso\"\n",
        "jumlah = 2\n",
        "harga = 15000.75\n",
        "angka = 255\n",
        "\n",
        "# %s = string\n",
        "print(\"Harits sedang memesan %s\" % (food))\n",
        "\n",
        "# %d = integer\n",
        "print(\"Harits membeli %d porsi\" % (jumlah))\n",
        "\n",
        "# %f = float\n",
        "print(\"Harga satu porsi = %f\" % (harga))\n",
        "print(\"Harga satu porsi (dibulatkan 2 angka) = %.2f\" % (harga))\n",
        "\n",
        "# %x = hexadecimal\n",
        "print(\"Angka %d dalam heksadesimal adalah %x\" % (angka, angka))\n",
        "\n",
        "# %o = octal\n",
        "print(\"Angka %d dalam oktal adalah %o\" % (angka, angka))"
      ],
      "metadata": {
        "colab": {
          "base_uri": "https://localhost:8080/"
        },
        "id": "0CnLCyLFhX1L",
        "outputId": "9da69491-097d-4a49-f3a2-eac22a61bddc"
      },
      "execution_count": null,
      "outputs": [
        {
          "output_type": "stream",
          "name": "stdout",
          "text": [
            "Harits sedang memesan mi ayam bakso\n",
            "Harits membeli 2 porsi\n",
            "Harga satu porsi = 15000.750000\n",
            "Harga satu porsi (dibulatkan 2 angka) = 15000.75\n",
            "Angka 255 dalam heksadesimal adalah ff\n",
            "Angka 255 dalam oktal adalah 377\n"
          ]
        }
      ]
    },
    {
      "cell_type": "code",
      "source": [
        "#kalkulator sederhana\n",
        "a = 50\n",
        "b = 5\n",
        "print(\"penjumlahan:\", a+b)\n",
        "print(\"pengurangan:\", a-b)\n",
        "print(\"perkalian:\", a*b)\n",
        "print(\"pembagian:\", a/b)\n",
        "print(\"sisa bagi:\", a%b)\n",
        "print(\"pembulatan:\", a/b )"
      ],
      "metadata": {
        "colab": {
          "base_uri": "https://localhost:8080/"
        },
        "id": "JSpq2ommuDCN",
        "outputId": "2900b0f5-d568-455f-f9b9-ebd1b53b96b3"
      },
      "execution_count": null,
      "outputs": [
        {
          "output_type": "stream",
          "name": "stdout",
          "text": [
            "penjumlahan: 55\n",
            "pengurangan: 45\n",
            "perkalian: 250\n",
            "pembagian: 10.0\n",
            "sisa bagi: 0\n",
            "pembulatan: 10.0\n"
          ]
        }
      ]
    },
    {
      "cell_type": "code",
      "source": [
        "#kalkulator kasir\n",
        "print(\"---belanjaan anda---\")\n",
        "nama_makanan = int(input(\"nasi goreng \"))\n",
        "nama_minuman = int(input(\"teh obeng\"))\n",
        "total = nama_makanan + nama_minuman\n",
        "print(\"total harga = \", total)\n",
        "\n"
      ],
      "metadata": {
        "colab": {
          "base_uri": "https://localhost:8080/"
        },
        "id": "Zd9lOsaxzMXK",
        "outputId": "8958a369-cb46-4db5-ef67-6f2acf8de0da"
      },
      "execution_count": null,
      "outputs": [
        {
          "output_type": "stream",
          "name": "stdout",
          "text": [
            "---belanjaan anda---\n",
            "nasi goreng 15000\n",
            "teh obeng5000\n",
            "total harga =  20000\n"
          ]
        }
      ]
    },
    {
      "cell_type": "code",
      "source": [
        "#Konversi waktu\n",
        "total_detik = int(input(\"Masukkan detik: \"))\n",
        "jam=total_detik // 3600\n",
        "sisa_detik = total_detik %3600\n",
        "menit = sisa_detik // 60\n",
        "detik = sisa_detik % 60\n",
        "\n",
        "print(jam, \"jam\", menit, \"menit\", detik, \"detik\")"
      ],
      "metadata": {
        "colab": {
          "base_uri": "https://localhost:8080/"
        },
        "id": "SlyCEJug3ZqQ",
        "outputId": "b4f039ec-68f3-475d-fdea-db0e191bfa36"
      },
      "execution_count": null,
      "outputs": [
        {
          "output_type": "stream",
          "name": "stdout",
          "text": [
            "Masukkan detik: 358200\n",
            "99 jam 30 menit 0 detik\n"
          ]
        }
      ]
    },
    {
      "cell_type": "code",
      "source": [
        "#menghitung nilai akhir mahasiswa\n",
        "nilai_tugas = int(input(\"nilai tugas: \"))\n",
        "nilai_quiz = int(input(\"nilai quiz: \"))\n",
        "nilai_ats = int(input(\"nilai ats: \"))\n",
        "nilai_aas = int(input(\"nilai aas: \"))\n",
        "standar_kelulusan = int(input(\"nilai standart: \"))\n",
        "\n",
        "# Calculate the average score\n",
        "nilai_rata_rata = (nilai_tugas + nilai_quiz + nilai_ats + nilai_aas) / 4\n",
        "\n",
        "apakah_lulus = nilai_rata_rata >= standar_kelulusan\n",
        "print(\"Nilai rata-rata:\", nilai_rata_rata)\n",
        "print(\"Apakah lulus:\", apakah_lulus)"
      ],
      "metadata": {
        "id": "MW_9178q7B9f",
        "colab": {
          "base_uri": "https://localhost:8080/"
        },
        "outputId": "dff9a446-107c-4068-cf91-b9f82bc5d3f9"
      },
      "execution_count": null,
      "outputs": [
        {
          "output_type": "stream",
          "name": "stdout",
          "text": [
            "nilai tugas: 90\n",
            "nilai quiz: 90\n",
            "nilai ats: 90\n",
            "nilai aas: 90\n",
            "nilai standart: 90\n",
            "Nilai rata-rata: 90.0\n",
            "Apakah lulus: True\n"
          ]
        }
      ]
    },
    {
      "cell_type": "code",
      "source": [
        "belanja = 1500000\n",
        "diskon = (0, 0.35 * belanja) [belanja > 1000000]\n",
        "total_harga = belanja - diskon\n",
        "# Output\n",
        "print(\"Total belanja :\", belanja)\n",
        "print(\"Diskon        :\", diskon)\n",
        "print(\"Total harga setelah diskon =\", total_harga)"
      ],
      "metadata": {
        "colab": {
          "base_uri": "https://localhost:8080/"
        },
        "id": "Et153CCi6DNc",
        "outputId": "3a47c6fd-fc62-4ffc-ab62-a85c37639239"
      },
      "execution_count": null,
      "outputs": [
        {
          "output_type": "stream",
          "name": "stdout",
          "text": [
            "Total belanja : 1500000\n",
            "Diskon        : 525000.0\n",
            "Total harga setelah diskon = 975000.0\n"
          ]
        }
      ]
    },
    {
      "cell_type": "code",
      "source": [
        "#LATIHAN\n",
        "# Program menentukan tahun kabisat\n",
        "\n",
        "# Fungsi input\n",
        "tahun = int(input(\"Masukkan tahun: \"))\n",
        "kabisat = (tahun % 4 == 0 and tahun % 100 != 0) or (tahun % 400 == 0)\n",
        "\n",
        "# Fungsi output\n",
        "print(\"Apakah tahun %d tahun kabisat? %s\" % (tahun, kabisat))"
      ],
      "metadata": {
        "colab": {
          "base_uri": "https://localhost:8080/"
        },
        "id": "9GXxKgdS5_zb",
        "outputId": "31bca766-66b8-4db5-f533-c5d172bf6c8d"
      },
      "execution_count": null,
      "outputs": [
        {
          "output_type": "stream",
          "name": "stdout",
          "text": [
            "Masukkan tahun: 2024\n",
            "Apakah tahun 2024 tahun kabisat? True\n"
          ]
        }
      ]
    },
    {
      "cell_type": "code",
      "source": [
        "# Program sederhana\n",
        "\n",
        "# fungsi input\n",
        "nama = input(\"Siapa namamu? \")\n",
        "barang = input(\"Barang yang dibeli: \")\n",
        "harga = float(input(\"Harga satuan barang: \"))\n",
        "jumlah = int(input(\"Jumlah barang: \"))\n",
        "\n",
        "# operasi aritmatika\n",
        "total = harga * jumlah\n",
        "\n",
        "# fungsi output\n",
        "print(\"\\n--- Struk Belanja ---\")\n",
        "print(\"Nama Pembeli :\", nama)\n",
        "print(\"Barang       :\", barang)\n",
        "print(\"Harga Satuan : Rp %.2f\" % harga)\n",
        "print(\"Jumlah       :\", jumlah)\n",
        "print(\"Total Bayar  : Rp %.2f\" % total)"
      ],
      "metadata": {
        "colab": {
          "base_uri": "https://localhost:8080/"
        },
        "id": "GztRT_nc9_pS",
        "outputId": "a46090a3-0f90-4d86-dce5-1151d3173e7a"
      },
      "execution_count": null,
      "outputs": [
        {
          "output_type": "stream",
          "name": "stdout",
          "text": [
            "Siapa namamu? harits\n",
            "Barang yang dibeli: buku gramedia\n",
            "Harga satuan barang: 80000\n",
            "Jumlah barang: 2\n",
            "\n",
            "--- Struk Belanja ---\n",
            "Nama Pembeli : harits\n",
            "Barang       : buku gramedia\n",
            "Harga Satuan : Rp 80,000.0\n",
            "Jumlah       : 2\n",
            "Total Bayar  : Rp 160,000.0\n"
          ]
        }
      ]
    },
    {
      "cell_type": "code",
      "source": [
        "# tugas\n",
        "\n",
        "# 1. Input data\n",
        "nama = input(\"Nama pelanggan : \")\n",
        "member = input(\"Apakah Anda member? (ya/tidak): \").lower()\n",
        "subtotal = int(input(\"Masukkan total belanja (Rp): \"))\n",
        "# 2. Evaluasi syarat diskon\n",
        "syarat_diskon = (member == \"ya\") and (subtotal > 100000)\n",
        "# 3. Hitung jumlah diskon\n",
        "diskon = syarat_diskon * (0.15 * subtotal)\n",
        "# 4. Hitung harga setelah diskon\n",
        "harga_setelah_diskon = subtotal - diskon\n",
        "# 5. Hitung PPN (11%)\n",
        "ppn = 0.11 * harga_setelah_diskon\n",
        "# 6. Hitung total akhir\n",
        "total_akhir = harga_setelah_diskon + ppn\n",
        "# Output struk\n",
        "print(\"\\n--- Struk Belanja ---\")\n",
        "print(\"Nama Pelanggan      :\", nama)\n",
        "print(\"Subtotal            : Rp\", subtotal)\n",
        "print(\"Diskon (15%)        : Rp\", int(diskon))\n",
        "print(\"Harga Setelah Diskon: Rp\", int(harga_setelah_diskon))\n",
        "print(\"PPN (11%)           : Rp\", int(ppn))\n",
        "print(\"Total Bayar         : Rp\", int(total_akhir))"
      ],
      "metadata": {
        "colab": {
          "base_uri": "https://localhost:8080/"
        },
        "id": "x6taEuKTC1G_",
        "outputId": "02ff0e4b-4376-4177-fb87-05079fc28d5d"
      },
      "execution_count": null,
      "outputs": [
        {
          "output_type": "stream",
          "name": "stdout",
          "text": [
            "Nama pelanggan : HARITS\n",
            "Apakah Anda member? (ya/tidak): YA\n",
            "Masukkan total belanja (Rp): 180000\n",
            "\n",
            "--- Struk Belanja ---\n",
            "Nama Pelanggan      : HARITS\n",
            "Subtotal            : Rp 180000\n",
            "Diskon (15%)        : Rp 27000\n",
            "Harga Setelah Diskon: Rp 153000\n",
            "PPN (11%)           : Rp 16830\n",
            "Total Bayar         : Rp 169830\n"
          ]
        }
      ]
    }
  ]
}